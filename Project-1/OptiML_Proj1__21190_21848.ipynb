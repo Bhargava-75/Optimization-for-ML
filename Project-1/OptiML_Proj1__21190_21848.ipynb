{
  "cells": [
    {
      "cell_type": "code",
      "execution_count": 17,
      "metadata": {
        "id": "QRozIoxgJl2I"
      },
      "outputs": [],
      "source": [
        "# Problem : 2 class Linear classifier (Diabetes or not)\n",
        "# Dataset : Diabetes.csv\n",
        "# Methods : a) Gradient Descent"
      ]
    },
    {
      "cell_type": "code",
      "execution_count": 18,
      "metadata": {
        "colab": {
          "base_uri": "https://localhost:8080/"
        },
        "id": "v4lh7NgvJ_4I",
        "outputId": "817cb710-5c9c-474c-d458-313edbf7652b"
      },
      "outputs": [
        {
          "output_type": "stream",
          "name": "stdout",
          "text": [
            "Downloading...\n",
            "From: https://drive.google.com/uc?id=1CDZGvTWA_7dLgEW_lv3Rm_5flw7FjmPW&confirm=t\n",
            "To: /content/Diabetes.csv\n",
            "\r  0% 0.00/23.9k [00:00<?, ?B/s]\r100% 23.9k/23.9k [00:00<00:00, 28.0MB/s]\n"
          ]
        }
      ],
      "source": [
        "!gdown \"1CDZGvTWA_7dLgEW_lv3Rm_5flw7FjmPW&confirm=t\""
      ]
    },
    {
      "cell_type": "code",
      "execution_count": 19,
      "metadata": {
        "id": "DQcYDzhFLIag"
      },
      "outputs": [],
      "source": [
        "import pandas as pd\n",
        "from sklearn.model_selection import train_test_split\n",
        "from sklearn.preprocessing import StandardScaler\n",
        "import numpy as np\n",
        "import matplotlib.pyplot as plt"
      ]
    },
    {
      "cell_type": "code",
      "execution_count": 20,
      "metadata": {
        "id": "I8hggUgLTnwr"
      },
      "outputs": [],
      "source": [
        "# Load the diabetes dataset.csv file into a pandas DataFrame\n",
        "Diabetes_df = pd.read_csv('/content/Diabetes.csv')\n",
        "\n",
        "# Split the data into training and testing sets\n",
        "X_train, X_test, y_train, y_test = train_test_split(Diabetes_df.drop('Outcome', axis=1),\n",
        "                                                    Diabetes_df['Outcome'],\n",
        "                                                    test_size=0.2, random_state=42)\n",
        "#We get these optimal values when we run graident descent algorthim for so many iterations\n",
        "optimum_weights = np.array([[-0.74912864 ,0.16994032 ,0.60079793,-0.06258882,0.01357402,-0.01708432,0.4208918,0.15230881,0.28123772]])\n",
        "optimum_loss = 0.5253827"
      ]
    },
    {
      "cell_type": "code",
      "execution_count": 21,
      "metadata": {
        "id": "37qai3biUdth"
      },
      "outputs": [],
      "source": [
        "# Initialize the StandardScaler\n",
        "scaler = StandardScaler()\n",
        "\n",
        "# Fit the scaler to the training data and transform both the training and testing data\n",
        "X_train_scaled = scaler.fit_transform(X_train)\n",
        "X_test_scaled = scaler.transform(X_test)\n",
        "\n",
        "# Add bias term to the input data\n",
        "X_train_scaled = np.insert(X_train_scaled, 0, 1, axis=1)\n",
        "X_test_scaled = np.insert(X_test_scaled, 0, 1, axis=1)\n",
        "\n",
        "\n",
        "# print(f\"X train scaled shape:{X_test_scaled.shape}\")\n",
        "# print(f\"X train scaled shape:{y_test.shape}\")\n",
        "# print(X_train_scaled)"
      ]
    },
    {
      "cell_type": "code",
      "execution_count": 22,
      "metadata": {
        "id": "Ra-kBprPWTO3"
      },
      "outputs": [],
      "source": [
        "class LinearClassifier_GD:\n",
        "    def __init__(self, epsilon=1e-7, reg_strength=0.01, learning_rate=0.01, max_iterations=1000):\n",
        "        self.reg_strength = reg_strength\n",
        "        self.learning_rate = learning_rate\n",
        "        self.num_iterations = max_iterations\n",
        "        self.epsilon = epsilon\n",
        "        \n",
        "    def fit(self, X, y):\n",
        "        weights_history = []\n",
        "     \n",
        "        # # Initialize weights\n",
        "        self.weights = np.zeros(X.shape[1])\n",
        "        \n",
        "        # Randomly initialize weights\n",
        "        #self.weights = np.random.rand(X.shape[1])\n",
        "\n",
        "\n",
        "        # Gradient descent\n",
        "        for i in range(self.num_iterations):\n",
        "\n",
        "            # prev weights\n",
        "            prev_weights = self.weights.copy()\n",
        "\n",
        "            # Compute predictions            \n",
        "            y_pred = self.predict_proba(X)\n",
        "            \n",
        "            # Compute loss and regularization term\n",
        "            loss = (-1/X.shape[0]) * np.sum(y * np.log(y_pred) + (1 - y) * np.log(1 - y_pred))\n",
        "            reg_term = (self.reg_strength/2) * np.sum(self.weights[1:]**2)\n",
        "            total_loss = loss + reg_term\n",
        "            weights_history.append(self.weights.copy())\n",
        "            \n",
        "            # Compute gradients\n",
        "            gradient = (1/X.shape[0]) * np.dot(X.T, y_pred - y)\n",
        "            reg_gradient = np.append(0, self.reg_strength * self.weights[1:])\n",
        "            total_gradient = gradient + reg_gradient\n",
        "            \n",
        "            # Update weights\n",
        "            self.weights -= self.learning_rate * total_gradient\n",
        "            error_weights = self.weights - optimum_weights\n",
        "            #Check stopping criterion\n",
        "            if i > 0 and np.abs(total_loss - optimum_loss) < self.epsilon:\n",
        "                print(f\"stopped at iteration number:{i}\")\n",
        "                print(f\"R^2 : {np.linalg.norm(self.weights)**2}\")\n",
        "                print(f\"iteration number:{i} loss:{total_loss}\")\n",
        "                break\n",
        "            prev_loss = total_loss\n",
        "        errors=[]\n",
        "        for i in weights_history:\n",
        "          i=np.array(i)\n",
        "          errors.append(np.linalg.norm(i-optimum_weights))\n",
        "        return errors\n",
        "\n",
        "    \n",
        "    def predict_proba(self, X):\n",
        "        # Compute predictions\n",
        "        logits = np.dot(X, self.weights)\n",
        "        return 1 / (1 + np.exp(-logits))\n",
        "    \n",
        "    def predict(self, X, threshold=0.5):\n",
        "        # Predict binary labels using a threshold\n",
        "        proba = self.predict_proba(X)\n",
        "        return (proba >= threshold).astype(int)\n"
      ]
    },
    {
      "cell_type": "code",
      "execution_count": 23,
      "metadata": {
        "colab": {
          "base_uri": "https://localhost:8080/",
          "height": 417
        },
        "id": "4pIo4Z4UW3ED",
        "outputId": "2a88814c-f290-48af-e111-6ee6f10cadcf"
      },
      "outputs": [
        {
          "output_type": "stream",
          "name": "stdout",
          "text": [
            "epsilon accuracy :0.0001\n",
            "max eval X_train :71.60011262344504\n",
            "L:18.10002815586126\n",
            "step size : 0.05524853284143506\n",
            "stopped at iteration number:326\n",
            "R^2 : 1.1688305489447772\n",
            "iteration number:326 loss:0.5254811918220887\n"
          ]
        },
        {
          "output_type": "display_data",
          "data": {
            "text/plain": [
              "<Figure size 432x288 with 1 Axes>"
            ],
            "image/png": "[encoded data removed]"
          },
          "metadata": {
            "needs_background": "light"
          }
        }
      ],
      "source": [
        "#  regularization strength\n",
        "reg_strength = 0.1\n",
        "\n",
        "# epsilon accuracy\n",
        "epsilon = 1e-4\n",
        "print(f\"epsilon accuracy :{epsilon}\")\n",
        "# max eval calculation to find step size\n",
        "def calculate_max_Eval(X):\n",
        "    return np.max(np.sum(X**2, axis=1))\n",
        "\n",
        "def calculate_step_size():\n",
        "    eval=calculate_max_Eval(X_train_scaled)\n",
        "    print(f\"max eval X_train :{eval}\")\n",
        "    L = (2*reg_strength + (eval/4))\n",
        "    print(f\"L:{L}\")\n",
        "    step_size = 1/L \n",
        "    print(f\"step size : {step_size}\")\n",
        "    return step_size\n",
        "\n",
        "\n",
        "# Initialize the linear classifier\n",
        "# classifier = LinearClassifier_GD(reg_strength, learning_rate= calculate_step_size(), max_iterations=1000, epsilon=1e-3)\n",
        "classifier = LinearClassifier_GD(epsilon, reg_strength, learning_rate= calculate_step_size(), max_iterations=10000)\n",
        "\n",
        "# Fit the linear classifier to the training data\n",
        "Error_hist_1=classifier.fit(X_train_scaled, y_train)\n",
        "\n",
        "# Plot the loss vs iterations\n",
        "plt.plot(range(len(Error_hist_1)), Error_hist_1)\n",
        "plt.xlabel('Iterations')\n",
        "plt.ylabel('Error')\n",
        "plt.title('Error vs Iterations')\n",
        "plt.show()"
      ]
    },
    {
      "cell_type": "code",
      "execution_count": 24,
      "metadata": {
        "colab": {
          "base_uri": "https://localhost:8080/"
        },
        "id": "QsCXQ62FRGmi",
        "outputId": "dbce8f47-31d1-40d2-fee8-8a01222c7681"
      },
      "outputs": [
        {
          "output_type": "stream",
          "name": "stdout",
          "text": [
            "Testing accuracy: 0.7857\n"
          ]
        }
      ],
      "source": [
        "# Compute the predictions on the testing set\n",
        "# print(X_test.shape)\n",
        "y_pred_test = classifier.predict(X_test_scaled)\n",
        "\n",
        "# Compute the accuracy on the testing set\n",
        "accuracy = np.mean(y_pred_test == y_test)\n",
        "print(f'Testing accuracy: {accuracy:.4f}')\n"
      ]
    },
    {
      "cell_type": "markdown",
      "metadata": {
        "id": "RFB-Se_m8eZz"
      },
      "source": [
        "### **P2**"
      ]
    },
    {
      "cell_type": "code",
      "execution_count": 25,
      "metadata": {
        "id": "RjZZz7l28sZf"
      },
      "outputs": [],
      "source": [
        "class LinearClassifier_Heavy_Ball_GD:\n",
        "    def __init__(self, epsilon=1e-7, reg_strength=0.01, learning_rate=0.01, max_iterations=1000, momentum=0.95):\n",
        "        self.reg_strength = reg_strength\n",
        "        self.learning_rate = learning_rate\n",
        "        self.num_iterations = max_iterations\n",
        "        self.epsilon = epsilon\n",
        "        self.momentum = momentum\n",
        "        \n",
        "    def fit(self, X, y):\n",
        "        weights_history = []\n",
        "     \n",
        "        # # Initialize weights\n",
        "        self.weights = np.zeros(X.shape[1])\n",
        "        self.update_weights = np.zeros(X.shape[1])\n",
        "        # Randomly initialize weights\n",
        "        #self.weights = np.random.rand(X.shape[1])\n",
        "\n",
        "\n",
        "        # Gradient descent\n",
        "        for i in range(self.num_iterations):\n",
        "            # Compute predictions\n",
        "            y_pred = self.predict_proba(X)\n",
        "            # print(\"no error\")\n",
        "            # Compute loss and regularization term\n",
        "            loss = (-1/X.shape[0]) * np.sum(y * np.log(y_pred) + (1 - y) * np.log(1 - y_pred))\n",
        "            reg_term = (self.reg_strength/2) * np.sum(self.weights[1:]**2)\n",
        "            total_loss = loss + reg_term\n",
        "            weights_history.append(self.weights.copy())\n",
        "            # print(self.weights)\n",
        "            # print(loss_history[i])\n",
        "\n",
        "            # Compute gradients\n",
        "            gradient = (1/X.shape[0]) * np.dot(X.T, y_pred - y)\n",
        "            reg_gradient = np.append(0, self.reg_strength * self.weights[1:])\n",
        "            total_gradient = gradient + reg_gradient\n",
        "            \n",
        "            # Update weights\n",
        "            self.update_weights = self.momentum*self.update_weights + self.learning_rate * total_gradient\n",
        "            self.weights = self.weights - self.update_weights\n",
        "            \n",
        "            # Check stopping criterion\n",
        "            if i > 0 and np.abs(total_loss - optimum_loss) < self.epsilon:\n",
        "                print(f\"stopped at iteration number:{i}\")\n",
        "                print(f\"iteration number:{i} loss:{total_loss}\")\n",
        "                print(f\"R^2 : {np.linalg.norm(self.weights)**2}\")\n",
        "                print(f\"momentum : {self.momentum}\")\n",
        "                print(f\"step size : {self.learning_rate}\")  \n",
        "                break\n",
        "\n",
        "            if i%10==0:\n",
        "              # print(f\"iteration number:{i} loss:{total_loss}\")\n",
        "              pass\n",
        "            prev_loss = total_loss\n",
        "        optim_weight = self.weights.copy()\n",
        "        print(np.linalg.norm(optim_weight))\n",
        "        errors=[]\n",
        "        for i in weights_history:\n",
        "          i=np.array(i)\n",
        "          optim_weight = np.array(optim_weight)\n",
        "          errors.append(np.linalg.norm(i-optim_weight))\n",
        "        return errors\n",
        "\n",
        "    \n",
        "    def predict_proba(self, X):\n",
        "        # Compute predictions\n",
        "        logits = np.dot(X, self.weights)\n",
        "        return 1 / (1 + np.exp(-logits))\n",
        "    \n",
        "    def predict(self, X, threshold=0.5):\n",
        "        # Predict binary labels using a threshold\n",
        "        proba = self.predict_proba(X)\n",
        "        return (proba >= threshold).astype(int)\n"
      ]
    },
    {
      "cell_type": "code",
      "execution_count": 26,
      "metadata": {
        "colab": {
          "base_uri": "https://localhost:8080/"
        },
        "id": "Uee2wN7oEz_B",
        "outputId": "0ae2f4ad-1277-4168-b6c5-82b2d9d29c32"
      },
      "outputs": [
        {
          "output_type": "stream",
          "name": "stdout",
          "text": [
            "epsilon accuracy:0.0001\n",
            "beta :0.9054861703039375\n",
            "stopped at iteration number:58\n",
            "iteration number:58 loss:0.5254756957097618\n",
            "R^2 : 1.2097698683020814\n",
            "momentum : 0.9\n",
            "step size : 0.02\n",
            "1.099895389708531\n"
          ]
        }
      ],
      "source": [
        "#regularization strength\n",
        "reg_strength = 0.1\n",
        "\n",
        "#stopping criteria accuracy value\n",
        "\n",
        "print(f\"epsilon accuracy:{epsilon}\")\n",
        "\n",
        "# max eval calculation to find step size\n",
        "def calculate_max_Eval(X):\n",
        "    return np.max(np.sum(X**2, axis=1))\n",
        "\n",
        "def calculate_L():\n",
        "  eval=calculate_max_Eval(X_train_scaled)\n",
        "  return 2*reg_strength + (eval/4)\n",
        "  \n",
        "def calculate_step_size():\n",
        "    eval=calculate_max_Eval(X_train_scaled)\n",
        "    print(f\"max eval:{eval}\")\n",
        "    L = 2*reg_strength + (eval/4)\n",
        "    #L = reg_strength + (eval)\n",
        "    print(f\"L:{L}\")\n",
        "    print(f\"step size : {1/L}\")\n",
        "    return (1/L)\n",
        "\n",
        "def calculate_beta_size():\n",
        "  alpha = 0.02\n",
        "  mu = reg_strength\n",
        "  x1 = mu*alpha/2\n",
        "  x2 = ((mu*alpha)**2 / 4)\n",
        "  x3  = 4*(1-(alpha*calculate_L())/2)\n",
        "  return 0.5*(x1 + (x2+x3)**0.5)\n",
        "\n",
        "beta = calculate_beta_size()\n",
        "print(f\"beta :{beta}\")\n",
        "\n",
        "def calculate_step_size2():\n",
        "  mu = reg_strength\n",
        "  L = 1/calculate_step_size()\n",
        "  return 2/(mu+L)\n",
        "\n",
        "# Initialize the linear classifier\n",
        "# classifier = LinearClassifier_GD(reg_strength, learning_rate= calculate_step_size(), max_iterations=1000, epsilon=1e-3)\n",
        "classifier = LinearClassifier_Heavy_Ball_GD(epsilon, reg_strength, learning_rate= 0.02, max_iterations=1000,  momentum=0.9)\n",
        "\n",
        "# Fit the linear classifier to the training data\n",
        "Error_hist_2=classifier.fit(X_train_scaled, y_train)\n",
        "# # Plot the loss vs iterations\n",
        "# plt.plot(range(len(Error_hist)), Error_hist)\n",
        "# plt.xlabel('Iterations')\n",
        "# plt.ylabel('Error')\n",
        "# plt.title('Error vs Iterations')\n",
        "# plt.show()"
      ]
    },
    {
      "cell_type": "code",
      "execution_count": 27,
      "metadata": {
        "id": "D6cxapMPPThX"
      },
      "outputs": [],
      "source": [
        "#This algorthim is we additionally mention in Presentation to converge faster than Normal NAGD\n",
        "class LinearClassifier_Simple_NAGD:\n",
        "    def __init__(self, reg_strength=0.01, learning_rate=0.01, max_iterations=1000, epsilon=1e-7 , momentum=0.9):\n",
        "        self.reg_strength = reg_strength\n",
        "        self.learning_rate = learning_rate\n",
        "        self.num_iterations = max_iterations\n",
        "        self.epsilon = epsilon\n",
        "        self.momentum = momentum\n",
        "        \n",
        "    def fit(self, X, y):\n",
        "        loss_history = []\n",
        "     \n",
        "        # # Initialize weights\n",
        "        self.weights = np.zeros(X.shape[1])\n",
        "        self.weights_lahead = np.zeros(X.shape[1])\n",
        "        \n",
        "        # Randomly initialize weights\n",
        "        #self.weights = np.random.rand(X.shape[1])\n",
        "\n",
        "\n",
        "        # Gradient descent\n",
        "        update_w=0\n",
        "        for i in range(self.num_iterations):\n",
        "            # Compute predictions\n",
        "            y_pred = self.predict_proba(X)\n",
        "            # print(\"no error\")\n",
        "            # Compute loss and regularization term\n",
        "            loss = (-1/X.shape[0]) * np.sum(y * np.log(y_pred) + (1 - y) * np.log(1 - y_pred))\n",
        "            reg_term = (self.reg_strength/2) * np.sum(self.weights[1:]**2)\n",
        "            total_loss = loss + reg_term\n",
        "            loss_history.append(self.weights.copy())\n",
        "            # print(self.weights)\n",
        "            # print(loss_history[i])\n",
        "\n",
        "            # Compute gradients\n",
        "            self.weights_lahead = self.weights - self.momentum*update_w\n",
        "            y_pred_lhead = self.predict_proba_lahead(X)\n",
        "            gradient = (1/X.shape[0]) * np.dot(X.T, y_pred_lhead - y)\n",
        "            reg_gradient = np.append(0, self.reg_strength * self.weights_lahead[1:])\n",
        "            total_gradient = gradient + reg_gradient\n",
        "            \n",
        "            # Update weights\n",
        "            update_w = self.momentum*update_w + self.learning_rate * total_gradient\n",
        "            self.weights = self.weights - update_w\n",
        "            \n",
        "            # Check stopping criterion\n",
        "            if i > 0 and np.abs(total_loss - optimum_loss) < self.epsilon:\n",
        "                print(f\"stopped at iteration number:{i}  Loss is : {total_loss}\")\n",
        "                print(f\"R^2 : {np.linalg.norm(self.weights_lahead)**2}\")  \n",
        "                break\n",
        "\n",
        "            if i%10==0:\n",
        "              # print(f\"iteration number:{i} loss:{total_loss}\")\n",
        "              pass\n",
        "            prev_loss = total_loss\n",
        "        exact_weight = self.weights\n",
        "        errors=[]\n",
        "        for i in loss_history:\n",
        "          i=np.array(i)\n",
        "          exact_weight = np.array(exact_weight)\n",
        "          errors.append(np.linalg.norm(i-optimum_weights))\n",
        "        return errors\n",
        "\n",
        "    \n",
        "    def predict_proba(self, X):\n",
        "        # Compute predictions\n",
        "        logits = np.dot(X, self.weights)\n",
        "        return 1 / (1 + np.exp(-logits))\n",
        "    \n",
        "    def predict_proba_lahead(self, X):\n",
        "        # Compute predictions\n",
        "        logits = np.dot(X, self.weights_lahead)\n",
        "        return 1 / (1 + np.exp(-logits))\n",
        "    \n",
        "    def predict(self, X, threshold=0.5):\n",
        "        # Predict binary labels using a threshold\n",
        "        proba = self.predict_proba(X)\n",
        "        return (proba >= threshold).astype(int)\n"
      ]
    },
    {
      "cell_type": "code",
      "execution_count": 28,
      "metadata": {
        "colab": {
          "base_uri": "https://localhost:8080/",
          "height": 382
        },
        "id": "_Tny5doJRKzp",
        "outputId": "16af0f82-82f8-4ffb-80e9-4c48b7420921"
      },
      "outputs": [
        {
          "output_type": "stream",
          "name": "stdout",
          "text": [
            "Epsilon : 0.0001\n",
            "L:18.10002815586126\n",
            "step size : 0.05524853284143506\n",
            "stopped at iteration number:54  Loss is : 0.5254733815231432\n",
            "R^2 : 1.174941918993948\n"
          ]
        },
        {
          "output_type": "display_data",
          "data": {
            "text/plain": [
              "<Figure size 432x288 with 1 Axes>"
            ],
            "image/png": "[encoded data removed]"
          },
          "metadata": {
            "needs_background": "light"
          }
        }
      ],
      "source": [
        "reg_strength = 0.1\n",
        "\n",
        "print(f\"Epsilon : {epsilon}\")\n",
        "# max eval calculation to find step size\n",
        "# def calculate_max_Eval(X):\n",
        "#     return np.max(np.sum(X**2, axis=1))\n",
        "\n",
        "def calculate_L():\n",
        "  eval=calculate_max_Eval(X_train_scaled)\n",
        "  return 2*reg_strength + eval/4\n",
        "\n",
        "def calculate_step_size():\n",
        "    L = calculate_L()\n",
        "    print(f\"L:{L}\")\n",
        "    print(f\"step size : {1/L}\")\n",
        "    return (1/L)\n",
        "\n",
        "def calculate_momentum():\n",
        "  L=calculate_L()\n",
        "  mu= reg_strength\n",
        "  print(f\"Momentum : {(L**0.5 - mu**0.5)/(L**0.5 + mu**0.5)}\")\n",
        "  return (L**0.5 - mu**0.5)/(L**0.5 + mu**0.5)\n",
        "\n",
        "# Initialize the linear classifier\n",
        "# classifier = LinearClassifier_GD(reg_strength, learning_rate= calculate_step_size(), max_iterations=1000, epsilon=1e-3)\n",
        "classifier = LinearClassifier_Simple_NAGD(reg_strength, learning_rate= calculate_step_size(), max_iterations=1000, epsilon=epsilon, momentum=0.8)\n",
        "\n",
        "# Fit the linear classifier to the training data\n",
        "Error_hist=classifier.fit(X_train_scaled, y_train)\n",
        "# Plot the loss vs iterations\n",
        "plt.plot(range(len(Error_hist)), Error_hist)\n",
        "plt.xlabel('Iterations')\n",
        "plt.ylabel('Error')\n",
        "plt.title('Error vs Iterations')\n",
        "plt.show()"
      ]
    },
    {
      "cell_type": "code",
      "execution_count": 29,
      "metadata": {
        "id": "tgbhEy1MWEmG"
      },
      "outputs": [],
      "source": [
        "class LinearClassifier_Nestrov_GD:\n",
        "    def __init__(self, epsilon=1e-7, reg_strength=0.1, learning_rate=0.01, max_iterations=1000):\n",
        "        self.reg_strength = reg_strength\n",
        "        self.learning_rate = learning_rate\n",
        "        self.num_iterations = max_iterations\n",
        "        self.epsilon = epsilon\n",
        "        \n",
        "    def fit(self, X, y):\n",
        "        loss_history = []\n",
        "     \n",
        "        # # Initialize weights\n",
        "        self.weights = np.zeros(X.shape[1])\n",
        "        self.weightsy = np.zeros(X.shape[1])\n",
        "        self.weightsz = np.zeros(X.shape[1])\n",
        "        \n",
        "        # Randomly initialize weights\n",
        "        #self.weights = np.random.rand(X.shape[1])\n",
        "\n",
        "\n",
        "        # Gradient descent\n",
        "        update_w=0\n",
        "        for i in range(self.num_iterations):\n",
        "            # Compute predictions\n",
        "            y_pred = self.predict_proba(X)\n",
        "            # print(\"no error\")\n",
        "            # Compute loss and regularization term\n",
        "            loss = (-1/X.shape[0]) * np.sum(y * np.log(y_pred) + (1 - y) * np.log(1 - y_pred))\n",
        "            reg_term = (self.reg_strength/2) * np.sum(self.weights[1:]**2)\n",
        "            total_loss = loss + reg_term\n",
        "            loss_history.append(self.weights.copy())\n",
        "            # print(self.weights)\n",
        "            # print(loss_history[i])\n",
        "\n",
        "            # Compute gradients\n",
        "            gradient = (1/X.shape[0]) * np.dot(X.T, y_pred - y)\n",
        "            reg_gradient = np.append(0, self.reg_strength * self.weights[1:])\n",
        "            total_gradient = gradient + reg_gradient\n",
        "            \n",
        "            # Update weights\n",
        "            self.weightsy = self.weights - self.learning_rate * total_gradient\n",
        "            self.weightsz = self.weightsz - self.learning_rate*(i+1)/2 * total_gradient\n",
        "            self.weights = (i+1)/(i+3) * self.weightsy + 2/(i+3) * self.weightsz\n",
        "            \n",
        "            # Check stopping criterion\n",
        "            if i > 0 and np.abs(total_loss - optimum_loss) < self.epsilon:\n",
        "                print(f\"stopped at iteration number:{i} Loss is  {total_loss}\")\n",
        "                print(f\"R^2 : {np.linalg.norm(self.weights)**2}\")  \n",
        "                break\n",
        "\n",
        "            prev_loss = total_loss\n",
        "        exact_weight = self.weights\n",
        "        errors=[]\n",
        "        for i in loss_history:\n",
        "          i=np.array(i)\n",
        "          exact_weight = np.array(exact_weight)\n",
        "          errors.append(np.linalg.norm(i-optimum_weights))\n",
        "        return errors\n",
        "\n",
        "    \n",
        "    def predict_proba(self, X):\n",
        "        # Compute predictions\n",
        "        logits = np.dot(X, self.weights)\n",
        "        return 1 / (1 + np.exp(-logits))\n",
        "    \n",
        "    def predict(self, X, threshold=0.5):\n",
        "        # Predict binary labels using a threshold\n",
        "        proba = self.predict_proba(X)\n",
        "        return (proba >= threshold).astype(int)\n"
      ]
    },
    {
      "cell_type": "code",
      "execution_count": 30,
      "metadata": {
        "colab": {
          "base_uri": "https://localhost:8080/",
          "height": 347
        },
        "id": "u33tE1s7XSID",
        "outputId": "5beed404-8a8c-4111-eb95-3615059e6d92"
      },
      "outputs": [
        {
          "output_type": "stream",
          "name": "stdout",
          "text": [
            "epsilon accuracy : 0.0001\n",
            "stopped at iteration number:15 Loss is  0.5254771092481344\n",
            "R^2 : 1.2856984494842274\n"
          ]
        },
        {
          "output_type": "display_data",
          "data": {
            "text/plain": [
              "<Figure size 432x288 with 1 Axes>"
            ],
            "image/png": "[encoded data removed]"
          },
          "metadata": {
            "needs_background": "light"
          }
        }
      ],
      "source": [
        "\n",
        "print(f\"epsilon accuracy : {epsilon}\")\n",
        "reg_strength = 0.1\n",
        "# max eval calculation to find step size\n",
        "def calculate_max_Eval(X):\n",
        "    return np.max(np.sum(X**2, axis=1))\n",
        "\n",
        "def calculate_L():\n",
        "  eval=calculate_max_Eval(X_train_scaled)\n",
        "  return 2*reg_strength + (eval/4)\n",
        "\n",
        "def calculate_step_size():\n",
        "    eval=calculate_max_Eval(X_train_scaled)\n",
        "    print(f\"max eval:{eval}\")\n",
        "    L = 2*reg_strength + (eval/4)\n",
        "    #L = reg_strength + (eval)\n",
        "    print(f\"L:{L}\")\n",
        "    print(f\"step size : {1/L}\")\n",
        "    return (1/L)\n",
        "\n",
        "\n",
        "# Initialize the linear classifier\n",
        "classifier = LinearClassifier_Nestrov_GD(epsilon, reg_strength, learning_rate= 0.3, max_iterations=1000)\n",
        "\n",
        "# Fit the linear classifier to the training data\n",
        "Error_hist_3=classifier.fit(X_train_scaled, y_train)\n",
        "# Plot the loss vs iterations\n",
        "plt.plot(range(len(Error_hist_3)), Error_hist_3)\n",
        "plt.xlabel('Iterations')\n",
        "plt.ylabel('Error')\n",
        "plt.title('Error vs Iterations')\n",
        "plt.show()"
      ]
    },
    {
      "cell_type": "code",
      "source": [
        "plt.plot(range(len(Error_hist_1)), Error_hist_1 , label=\"Gradient\")\n",
        "plt.plot(range(len(Error_hist_2)), Error_hist_2 , label = \"Heavy Ball GD\")\n",
        "plt.plot(range(len(Error_hist_3)), Error_hist_3, label = \"Nestrov GD\")\n",
        "plt.plot(range(len(Error_hist)), Error_hist, label = \"Simple Nestrov GD\")\n",
        "plt.title('Convergence Plot eps =1E-4')\n",
        "plt.xlabel('Iterations')\n",
        "plt.legend()\n",
        "plt.ylabel('Error')\n",
        "plt.show()"
      ],
      "metadata": {
        "colab": {
          "base_uri": "https://localhost:8080/",
          "height": 295
        },
        "id": "6ZwcTqSiMQ5F",
        "outputId": "7b833347-c7d6-4aa0-cddc-9ac57a888b7b"
      },
      "execution_count": 31,
      "outputs": [
        {
          "output_type": "display_data",
          "data": {
            "text/plain": [
              "<Figure size 432x288 with 1 Axes>"
            ],
            "image/png": "[encoded data removed]"
          },
          "metadata": {
            "needs_background": "light"
          }
        }
      ]
    }
  ],
  "metadata": {
    "colab": {
      "provenance": []
    },
    "kernelspec": {
      "display_name": "Python 3 (ipykernel)",
      "language": "python",
      "name": "python3"
    },
    "language_info": {
      "codemirror_mode": {
        "name": "ipython",
        "version": 3
      },
      "file_extension": ".py",
      "mimetype": "text/x-python",
      "name": "python",
      "nbconvert_exporter": "python",
      "pygments_lexer": "ipython3",
      "version": "3.10.10"
    }
  },
  "nbformat": 4,
  "nbformat_minor": 0
}